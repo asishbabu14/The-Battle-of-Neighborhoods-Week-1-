{
    "nbformat_minor": 1, 
    "cells": [
        {
            "source": "# Data section", 
            "cell_type": "markdown", 
            "metadata": {
                "collapsed": true
            }
        }, 
        {
            "source": "I will be using the database of the City and County of San Francisco's data (datasf.org) for the analyze. Database- Police Department Incident Reports: 2018 to Present and San Francisco Historical Secured Property Tax Rolls 2007\u20132015.\n\nLinks\nPolice Department Incident Reports: 2018 to Present https://data.sfgov.org/Public-Safety/Police-Department-Incident-Reports-2018-to-Present/wg3w-h783/data\n San Francisco Historical Secured Property Tax Rolls 2007\u20132015 https://www.kaggle.com/datasf/sf-historic-secured-property-tax-rolls", 
            "cell_type": "markdown", 
            "metadata": {}
        }, 
        {
            "execution_count": null, 
            "cell_type": "code", 
            "metadata": {}, 
            "outputs": [], 
            "source": ""
        }
    ], 
    "metadata": {
        "kernelspec": {
            "display_name": "Python 3.6", 
            "name": "python3", 
            "language": "python"
        }, 
        "language_info": {
            "mimetype": "text/x-python", 
            "nbconvert_exporter": "python", 
            "version": "3.6.8", 
            "name": "python", 
            "file_extension": ".py", 
            "pygments_lexer": "ipython3", 
            "codemirror_mode": {
                "version": 3, 
                "name": "ipython"
            }
        }
    }, 
    "nbformat": 4
}
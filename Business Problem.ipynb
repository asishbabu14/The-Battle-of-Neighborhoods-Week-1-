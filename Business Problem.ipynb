{
    "nbformat_minor": 1, 
    "cells": [
        {
            "source": "<h1 align=center><font size = 5> Capstone Project - The Battle of Neighborhoods (Week 1) </font></h1>", 
            "cell_type": "markdown", 
            "metadata": {
                "collapsed": true
            }
        }, 
        {
            "source": "# Introduction/Business Problem", 
            "cell_type": "markdown", 
            "metadata": {}
        }, 
        {
            "source": "A Food Company from Newyork wants to expand their restaurant business to San Francisco, California. They want to find the best place to start their business, which is suitable for the Indian restaurant. But San Francisco has so many Indian restaurants, so this company wants Data Scientist to find the Best location for their business which is near to famous attraction/location and which will be profitable to the company.\n\n\n\n8 Factors for Choosing a New Restaurant Location according to experts:\n\n    1. Visibility\n    2. Parking\n    3. Space Size\n    4. Crime Rates\n    5. Surrounding Businesses and Competitor Analysis\n    6. Accessibility\n    7. Affordability\n    8. Safety", 
            "cell_type": "markdown", 
            "metadata": {}
        }
    ], 
    "metadata": {
        "kernelspec": {
            "display_name": "Python 3.6", 
            "name": "python3", 
            "language": "python"
        }, 
        "language_info": {
            "mimetype": "text/x-python", 
            "nbconvert_exporter": "python", 
            "version": "3.6.8", 
            "name": "python", 
            "file_extension": ".py", 
            "pygments_lexer": "ipython3", 
            "codemirror_mode": {
                "version": 3, 
                "name": "ipython"
            }
        }
    }, 
    "nbformat": 4
}